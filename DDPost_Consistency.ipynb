{
 "cells": [
  {
   "cell_type": "markdown",
   "metadata": {},
   "source": [
    "### Compute sentiment of DD posts \n",
    "\n",
    "* For now, just use TextBlob package that assigns sentiment score between -1, 1 (In the future, employ WSB-specific dictionary for positive/negative)\n",
    "* Merge with ticker mention data, and only work with single ticker mention posts \n",
    "* Merge with return data, and compute 3 month cumulative abnormal return over subsequent 3 months, 5 days, and next day"
   ]
  },
  {
   "cell_type": "code",
   "execution_count": 1,
   "metadata": {},
   "outputs": [],
   "source": [
    "# import packages \n",
    "import pandas as pd\n",
    "from textblob import TextBlob"
   ]
  },
  {
   "cell_type": "markdown",
   "metadata": {},
   "source": [
    "#### Load DD posts "
   ]
  },
  {
   "cell_type": "code",
   "execution_count": 2,
   "metadata": {},
   "outputs": [],
   "source": [
    "dd_df = pd.read_pickle('/Volumes/Elements/Research/Reddit_Credibility/Data/dd_df_sample.pkl')"
   ]
  },
  {
   "cell_type": "markdown",
   "metadata": {},
   "source": [
    "#### Create title and body sentiment scores"
   ]
  },
  {
   "cell_type": "code",
   "execution_count": 3,
   "metadata": {},
   "outputs": [],
   "source": [
    "dd_df['title_sentiment'] =dd_df['title'].apply(lambda title: TextBlob(title).sentiment.polarity)\n",
    "\n",
    "dd_df['body_sentiment'] =dd_df['body'].apply(lambda body: TextBlob(body).sentiment.polarity)"
   ]
  },
  {
   "cell_type": "code",
   "execution_count": 4,
   "metadata": {},
   "outputs": [
    {
     "data": {
      "text/plain": [
       "count    9197.000000\n",
       "mean        0.071052\n",
       "std         0.106230\n",
       "min        -0.900000\n",
       "25%         0.009091\n",
       "50%         0.074074\n",
       "75%         0.125000\n",
       "max         1.000000\n",
       "Name: body_sentiment, dtype: float64"
      ]
     },
     "execution_count": 4,
     "metadata": {},
     "output_type": "execute_result"
    }
   ],
   "source": [
    "dd_df.body_sentiment.describe()"
   ]
  },
  {
   "cell_type": "markdown",
   "metadata": {},
   "source": [
    "#### Time series plot - sentiment over time "
   ]
  },
  {
   "cell_type": "code",
   "execution_count": 5,
   "metadata": {},
   "outputs": [],
   "source": [
    "# create date and month variable\n",
    "dd_df['date'] = dd_df['timestamp'].dt.date\n",
    "dd_df['month'] = dd_df['timestamp'].dt.to_period('M')\n",
    "\n",
    "# daily and monthly average sentiment score variables \n",
    "daily_avg = dd_df.groupby(['date'])[['title_sentiment', 'body_sentiment']].agg('mean')\n",
    "month_avg = dd_df.groupby(['month'])[['title_sentiment', 'body_sentiment']].agg('mean')\n",
    "\n",
    "# reset index \n",
    "month_avg = month_avg.reset_index()\n",
    "daily_avg = daily_avg.reset_index()"
   ]
  },
  {
   "cell_type": "code",
   "execution_count": 6,
   "metadata": {},
   "outputs": [
    {
     "data": {
      "text/plain": [
       "<AxesSubplot:xlabel='month'>"
      ]
     },
     "execution_count": 6,
     "metadata": {},
     "output_type": "execute_result"
    },
    {
     "data": {
      "image/png": "[encoded data removed]",
      "text/plain": [
       "<Figure size 432x288 with 1 Axes>"
      ]
     },
     "metadata": {
      "needs_background": "light"
     },
     "output_type": "display_data"
    }
   ],
   "source": [
    "month_avg.plot(x = 'month', y = 'body_sentiment')"
   ]
  },
  {
   "cell_type": "code",
   "execution_count": 7,
   "metadata": {},
   "outputs": [
    {
     "data": {
      "text/plain": [
       "(9197, 16)"
      ]
     },
     "execution_count": 7,
     "metadata": {},
     "output_type": "execute_result"
    }
   ],
   "source": [
    "dd_df.shape"
   ]
  },
  {
   "cell_type": "markdown",
   "metadata": {},
   "source": [
    "#### Merge with ticker mention data"
   ]
  },
  {
   "cell_type": "code",
   "execution_count": 8,
   "metadata": {},
   "outputs": [],
   "source": [
    "ticker_mention = pd.read_csv('/Volumes/Elements/Research/Reddit_Credibility/Data/ticker_collection_2021.csv')\n",
    "\n",
    "# only keep multi_ticker not equal to 1 \n",
    "ticker_mention = ticker_mention[ticker_mention['multi_ticker'] != 1]\n",
    "\n",
    "ticker_mention = ticker_mention[['url', 'ticker']]\n",
    "\n",
    "dd_df = dd_df.merge(ticker_mention, on = 'url')\n",
    "\n",
    "dd_df = dd_df.dropna()"
   ]
  },
  {
   "cell_type": "code",
   "execution_count": 9,
   "metadata": {},
   "outputs": [],
   "source": [
    "dd_df = dd_df.dropna()"
   ]
  },
  {
   "cell_type": "markdown",
   "metadata": {},
   "source": [
    "#### Merge with CRSP Returns "
   ]
  },
  {
   "cell_type": "code",
   "execution_count": 10,
   "metadata": {},
   "outputs": [],
   "source": [
    "# load crsp \n",
    "crsp = pd.read_csv('/Volumes/Elements/Research/Reddit_Credibility/Data/ReturnMeasures.csv')\n",
    "\n",
    "# date\n",
    "crsp['date'] = pd.to_datetime(crsp['date'], format = '%Y%m%d')\n",
    "\n",
    "# merge with dd_df\n",
    "dd_df['date'] = pd.to_datetime(dd_df['date'])\n",
    "dd_df = dd_df.sort_values(['date'])\n",
    "crsp = crsp.sort_values(['date'])\n",
    "dd_df = pd.merge_asof(left = dd_df, right = crsp, on = 'date', left_by = 'ticker', right_by = 'TICKER', direction = 'forward' )"
   ]
  },
  {
   "cell_type": "markdown",
   "metadata": {},
   "source": [
    "#### Save"
   ]
  },
  {
   "cell_type": "code",
   "execution_count": 13,
   "metadata": {},
   "outputs": [],
   "source": [
    "dd_df.to_csv('/Volumes/Elements/Research/Reddit_Credibility/Data/DDPosts_Sentiment_Returns.csv')"
   ]
  },
  {
   "cell_type": "code",
   "execution_count": null,
   "metadata": {},
   "outputs": [],
   "source": []
  }
 ],
 "metadata": {
  "kernelspec": {
   "display_name": "Python 3",
   "language": "python",
   "name": "python3"
  },
  "language_info": {
   "codemirror_mode": {
    "name": "ipython",
    "version": 3
   },
   "file_extension": ".py",
   "mimetype": "text/x-python",
   "name": "python",
   "nbconvert_exporter": "python",
   "pygments_lexer": "ipython3",
   "version": "3.8.5"
  }
 },
 "nbformat": 4,
 "nbformat_minor": 4
}
