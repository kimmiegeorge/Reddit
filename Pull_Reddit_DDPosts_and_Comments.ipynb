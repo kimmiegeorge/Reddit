{
 "cells": [
  {
   "cell_type": "markdown",
   "metadata": {},
   "source": [
    "# ID DD Posts \n",
    "- ID all due diligence posts on WallStreetBets \n",
    "- Collect all comments on posts - used to identify disclosure change \n",
    "- Collect user-identifying information that will be used to pull user's information "
   ]
  },
  {
   "cell_type": "code",
   "execution_count": 2,
   "metadata": {},
   "outputs": [],
   "source": [
    "# load packages\n",
    "import praw \n",
    "import pandas as pd \n",
    "import datetime as dt \n",
    "from datetime import timedelta\n",
    "import numpy as np \n",
    "from psaw import PushshiftAPI\n",
    "import re"
   ]
  },
  {
   "cell_type": "markdown",
   "metadata": {},
   "source": [
    "### Setup:\n",
    "Initialize instance of reddit API using Pushshift API wrapper"
   ]
  },
  {
   "cell_type": "code",
   "execution_count": 6,
   "metadata": {},
   "outputs": [
    {
     "name": "stderr",
     "output_type": "stream",
     "text": [
      "Version 7.1.0 of praw is outdated. Version 7.4.0 was released Friday July 30, 2021.\n"
     ]
    }
   ],
   "source": [
    "# load reddit and pushshift API for accessing posts\n",
    "reddit = praw.Reddit(client_id = 'rAfwBiShkge-tw',\n",
    "                    client_secret = '1rcUS_cY1tZ_uDGwJdpEIe-vSow',\n",
    "                    user_agent = 'wsb_app',\n",
    "                    username = 'Real_Measurement_493', \n",
    "                    password = 'stella96')\n",
    "api = PushshiftAPI(reddit)"
   ]
  },
  {
   "cell_type": "markdown",
   "metadata": {},
   "source": [
    "### Find DD Posts:\n",
    "1. Search for instances of DD by flair\n",
    "2. Store dictionary of vars of interest\n",
    "3. Store as data frame and clean"
   ]
  },
  {
   "cell_type": "code",
   "execution_count": 5,
   "metadata": {},
   "outputs": [],
   "source": [
    "# search all submissions \n",
    "sub_search = api.search_submissions(subreddit = 'wallstreetbets', \n",
    "                           filter = ['url', 'author', 'title', 'body', 'created', 'num_comments', 'score', 'link_flair_text'])"
   ]
  },
  {
   "cell_type": "code",
   "execution_count": 6,
   "metadata": {},
   "outputs": [
    {
     "name": "stderr",
     "output_type": "stream",
     "text": [
      "/Users/kimmiegeorge/opt/anaconda3/lib/python3.8/site-packages/psaw/PushshiftAPI.py:244: UserWarning: Not all PushShift shards are active. Query results may be incomplete\n",
      "  warnings.warn(shards_down_message)\n"
     ]
    }
   ],
   "source": [
    "# initialize dictionary and save results \n",
    "topics_dict = { \"title\":[], \"author\":[],\n",
    "                \"score\":[],\n",
    "                \"id\":[], \"url\":[], \n",
    "                \"comms_num\": [],\n",
    "                \"created\": [], \n",
    "              \"flair\" : []}\n",
    "\n",
    "for submission in sub_search:\n",
    "    topics_dict[\"title\"].append(submission.title)\n",
    "    topics_dict[\"author\"].append(submission.author)\n",
    "    topics_dict[\"score\"].append(submission.score)\n",
    "    topics_dict[\"id\"].append(submission.id)\n",
    "    topics_dict[\"url\"].append(submission.url)\n",
    "    topics_dict[\"comms_num\"].append(submission.num_comments)\n",
    "    topics_dict[\"created\"].append(submission.created)\n",
    "    topics_dict[\"flair\"].append(submission.link_flair_text)"
   ]
  },
  {
   "cell_type": "code",
   "execution_count": 7,
   "metadata": {},
   "outputs": [],
   "source": [
    "# transform topics_dict into a pandas data frame \n",
    "discussions_df = pd.DataFrame.from_dict(topics_dict, orient = 'index')\n",
    "discussions_df = discussions_df.transpose()"
   ]
  },
  {
   "cell_type": "code",
   "execution_count": 8,
   "metadata": {},
   "outputs": [
    {
     "data": {
      "text/plain": [
       "(1643412, 8)"
      ]
     },
     "execution_count": 8,
     "metadata": {},
     "output_type": "execute_result"
    }
   ],
   "source": [
    "# look at shape \n",
    "discussions_df.shape"
   ]
  },
  {
   "cell_type": "code",
   "execution_count": 11,
   "metadata": {},
   "outputs": [],
   "source": [
    "# Fix dates - Reddit dates are in UNIX timestamps \n",
    "def get_date(created):\n",
    "    return dt.datetime.fromtimestamp(created)\n",
    "\n",
    "_timestamp = discussions_df['created'].apply(get_date)\n",
    "\n",
    "discussions_df = discussions_df.assign(timestamp = _timestamp)"
   ]
  },
  {
   "cell_type": "code",
   "execution_count": 12,
   "metadata": {},
   "outputs": [],
   "source": [
    "# only keep DD posts\n",
    "dd_df = discussions_df[discussions_df['flair'] == 'DD']"
   ]
  },
  {
   "cell_type": "code",
   "execution_count": 13,
   "metadata": {},
   "outputs": [
    {
     "data": {
      "text/plain": [
       "(73535, 9)"
      ]
     },
     "execution_count": 13,
     "metadata": {},
     "output_type": "execute_result"
    }
   ],
   "source": [
    "# look at shape\n",
    "dd_df.shape"
   ]
  },
  {
   "cell_type": "code",
   "execution_count": 15,
   "metadata": {},
   "outputs": [],
   "source": [
    "dd_df.to_pickle('/Volumes/Elements/Research/Reddit_Credibility/Data/dd_df.pkl')"
   ]
  },
  {
   "cell_type": "markdown",
   "metadata": {},
   "source": [
    "### Pull all comments on DD posts "
   ]
  },
  {
   "cell_type": "code",
   "execution_count": 19,
   "metadata": {},
   "outputs": [],
   "source": [
    "dd_df = dd_df.reset_index()"
   ]
  },
  {
   "cell_type": "code",
   "execution_count": 22,
   "metadata": {},
   "outputs": [
    {
     "name": "stdout",
     "output_type": "stream",
     "text": [
      "--------------------------------------------------------------------------------\n",
      "On submission 0/73535\n",
      "--------------------------------------------------------------------------------\n",
      "On submission 1000/73535\n",
      "--------------------------------------------------------------------------------\n",
      "On submission 2000/73535\n",
      "--------------------------------------------------------------------------------\n",
      "On submission 3000/73535\n",
      "--------------------------------------------------------------------------------\n",
      "On submission 4000/73535\n"
     ]
    },
    {
     "name": "stderr",
     "output_type": "stream",
     "text": [
      "/Users/kimmiegeorge/opt/anaconda3/lib/python3.8/site-packages/psaw/PushshiftAPI.py:192: UserWarning: Got non 200 code 502\n",
      "  warnings.warn(\"Got non 200 code %s\" % response.status_code)\n"
     ]
    },
    {
     "name": "stdout",
     "output_type": "stream",
     "text": [
      "--------------------------------------------------------------------------------\n",
      "On submission 5000/73535\n",
      "--------------------------------------------------------------------------------\n",
      "On submission 6000/73535\n",
      "--------------------------------------------------------------------------------\n",
      "On submission 7000/73535\n",
      "--------------------------------------------------------------------------------\n",
      "On submission 8000/73535\n",
      "--------------------------------------------------------------------------------\n",
      "On submission 9000/73535\n",
      "--------------------------------------------------------------------------------\n",
      "On submission 10000/73535\n",
      "--------------------------------------------------------------------------------\n",
      "On submission 11000/73535\n",
      "--------------------------------------------------------------------------------\n",
      "On submission 12000/73535\n",
      "--------------------------------------------------------------------------------\n",
      "On submission 13000/73535\n",
      "--------------------------------------------------------------------------------\n",
      "On submission 14000/73535\n",
      "--------------------------------------------------------------------------------\n",
      "On submission 15000/73535\n",
      "--------------------------------------------------------------------------------\n",
      "On submission 16000/73535\n",
      "--------------------------------------------------------------------------------\n",
      "On submission 17000/73535\n",
      "--------------------------------------------------------------------------------\n",
      "On submission 18000/73535\n",
      "--------------------------------------------------------------------------------\n",
      "On submission 19000/73535\n",
      "--------------------------------------------------------------------------------\n",
      "On submission 20000/73535\n",
      "--------------------------------------------------------------------------------\n",
      "On submission 21000/73535\n",
      "--------------------------------------------------------------------------------\n",
      "On submission 22000/73535\n",
      "--------------------------------------------------------------------------------\n",
      "On submission 23000/73535\n",
      "--------------------------------------------------------------------------------\n",
      "On submission 24000/73535\n",
      "--------------------------------------------------------------------------------\n",
      "On submission 25000/73535\n",
      "--------------------------------------------------------------------------------\n",
      "On submission 26000/73535\n",
      "--------------------------------------------------------------------------------\n",
      "On submission 27000/73535\n",
      "--------------------------------------------------------------------------------\n",
      "On submission 28000/73535\n",
      "--------------------------------------------------------------------------------\n",
      "On submission 29000/73535\n",
      "--------------------------------------------------------------------------------\n",
      "On submission 30000/73535\n",
      "--------------------------------------------------------------------------------\n",
      "On submission 31000/73535\n",
      "--------------------------------------------------------------------------------\n",
      "On submission 32000/73535\n",
      "--------------------------------------------------------------------------------\n",
      "On submission 33000/73535\n",
      "--------------------------------------------------------------------------------\n",
      "On submission 34000/73535\n",
      "--------------------------------------------------------------------------------\n",
      "On submission 35000/73535\n",
      "--------------------------------------------------------------------------------\n",
      "On submission 36000/73535\n",
      "--------------------------------------------------------------------------------\n",
      "On submission 37000/73535\n",
      "--------------------------------------------------------------------------------\n",
      "On submission 38000/73535\n",
      "--------------------------------------------------------------------------------\n",
      "On submission 39000/73535\n",
      "--------------------------------------------------------------------------------\n",
      "On submission 40000/73535\n",
      "--------------------------------------------------------------------------------\n",
      "On submission 41000/73535\n",
      "--------------------------------------------------------------------------------\n",
      "On submission 42000/73535\n",
      "--------------------------------------------------------------------------------\n",
      "On submission 43000/73535\n",
      "--------------------------------------------------------------------------------\n",
      "On submission 44000/73535\n",
      "--------------------------------------------------------------------------------\n",
      "On submission 45000/73535\n",
      "--------------------------------------------------------------------------------\n",
      "On submission 46000/73535\n",
      "--------------------------------------------------------------------------------\n",
      "On submission 47000/73535\n",
      "--------------------------------------------------------------------------------\n",
      "On submission 48000/73535\n",
      "--------------------------------------------------------------------------------\n",
      "On submission 49000/73535\n",
      "--------------------------------------------------------------------------------\n",
      "On submission 50000/73535\n",
      "--------------------------------------------------------------------------------\n",
      "On submission 51000/73535\n",
      "--------------------------------------------------------------------------------\n",
      "On submission 52000/73535\n",
      "--------------------------------------------------------------------------------\n",
      "On submission 53000/73535\n",
      "--------------------------------------------------------------------------------\n",
      "On submission 54000/73535\n",
      "--------------------------------------------------------------------------------\n",
      "On submission 55000/73535\n",
      "--------------------------------------------------------------------------------\n",
      "On submission 56000/73535\n",
      "--------------------------------------------------------------------------------\n",
      "On submission 57000/73535\n",
      "--------------------------------------------------------------------------------\n",
      "On submission 58000/73535\n",
      "--------------------------------------------------------------------------------\n",
      "On submission 59000/73535\n",
      "--------------------------------------------------------------------------------\n",
      "On submission 60000/73535\n",
      "--------------------------------------------------------------------------------\n",
      "On submission 61000/73535\n",
      "--------------------------------------------------------------------------------\n",
      "On submission 62000/73535\n",
      "--------------------------------------------------------------------------------\n",
      "On submission 63000/73535\n",
      "--------------------------------------------------------------------------------\n",
      "On submission 64000/73535\n",
      "--------------------------------------------------------------------------------\n",
      "On submission 65000/73535\n",
      "--------------------------------------------------------------------------------\n",
      "On submission 66000/73535\n"
     ]
    },
    {
     "name": "stderr",
     "output_type": "stream",
     "text": [
      "/Users/kimmiegeorge/opt/anaconda3/lib/python3.8/site-packages/psaw/PushshiftAPI.py:192: UserWarning: Got non 200 code 521\n",
      "  warnings.warn(\"Got non 200 code %s\" % response.status_code)\n"
     ]
    },
    {
     "name": "stdout",
     "output_type": "stream",
     "text": [
      "--------------------------------------------------------------------------------\n",
      "On submission 67000/73535\n",
      "--------------------------------------------------------------------------------\n",
      "On submission 68000/73535\n",
      "--------------------------------------------------------------------------------\n",
      "On submission 69000/73535\n",
      "--------------------------------------------------------------------------------\n",
      "On submission 70000/73535\n",
      "--------------------------------------------------------------------------------\n",
      "On submission 71000/73535\n",
      "--------------------------------------------------------------------------------\n",
      "On submission 72000/73535\n",
      "--------------------------------------------------------------------------------\n",
      "On submission 73000/73535\n"
     ]
    }
   ],
   "source": [
    "# now for each submission, want to access all the comments for that submission and store in a searchable list\n",
    "\n",
    "#initialize list \n",
    "comments_list = []\n",
    "  \n",
    "# loop through submissions\n",
    "for i in range(0, len(dd_df)):\n",
    "    if i % 1000 == 0:\n",
    "        print(\"-\"*80)\n",
    "        print(\"On submission {}/{}\".format(i, len(dd_df)))\n",
    "    \n",
    "    # get submission id\n",
    "    id_sub = dd_df.loc[i, \"id\"]\n",
    "    \n",
    "    # search for comments on submission id\n",
    "    search = api.search_comments(link_id = id_sub, subreddit = 'wallstreetbets', filter = ['id','body', 'author','parent_id', 'score', 'replies'])\n",
    "   # print(\"after search\")\n",
    "    \n",
    "    # initialize dictionary\n",
    "    comm_dict = {}\n",
    "    \n",
    "    # append comment body to dictionary\n",
    "    for comment in search:\n",
    "        _id = comment.id\n",
    "        comm_dict[_id] = {\n",
    "            \"body\": comment.body,\n",
    "            \"author\": comment.author,\n",
    "            \"parent_id\": comment.parent_id,\n",
    "            \"score\": comment.score,\n",
    "            \"replies\": comment.replies\n",
    "        }\n",
    "    \n",
    "    # append\n",
    "    comments_list.append((id_sub, comm_dict))"
   ]
  },
  {
   "cell_type": "markdown",
   "metadata": {},
   "source": [
    "### Transform comments_list into a data frame "
   ]
  },
  {
   "cell_type": "code",
   "execution_count": 82,
   "metadata": {},
   "outputs": [],
   "source": [
    "# initialize new list to store adjusted comment lists in \n",
    "comments_list2 = []"
   ]
  },
  {
   "cell_type": "code",
   "execution_count": 83,
   "metadata": {},
   "outputs": [
    {
     "name": "stdout",
     "output_type": "stream",
     "text": [
      "======================================\n",
      "On submission 0 out of 73535\n",
      "======================================\n",
      "On submission 1000 out of 73535\n",
      "======================================\n",
      "On submission 2000 out of 73535\n",
      "======================================\n",
      "On submission 3000 out of 73535\n",
      "======================================\n",
      "On submission 4000 out of 73535\n",
      "======================================\n",
      "On submission 5000 out of 73535\n",
      "======================================\n",
      "On submission 6000 out of 73535\n",
      "======================================\n",
      "On submission 7000 out of 73535\n",
      "======================================\n",
      "On submission 8000 out of 73535\n",
      "======================================\n",
      "On submission 9000 out of 73535\n",
      "======================================\n",
      "On submission 10000 out of 73535\n",
      "======================================\n",
      "On submission 11000 out of 73535\n",
      "======================================\n",
      "On submission 12000 out of 73535\n",
      "======================================\n",
      "On submission 13000 out of 73535\n",
      "======================================\n",
      "On submission 14000 out of 73535\n",
      "======================================\n",
      "On submission 15000 out of 73535\n",
      "======================================\n",
      "On submission 16000 out of 73535\n",
      "======================================\n",
      "On submission 17000 out of 73535\n",
      "======================================\n",
      "On submission 18000 out of 73535\n",
      "======================================\n",
      "On submission 19000 out of 73535\n",
      "======================================\n",
      "On submission 20000 out of 73535\n",
      "======================================\n",
      "On submission 21000 out of 73535\n",
      "======================================\n",
      "On submission 22000 out of 73535\n",
      "======================================\n",
      "On submission 23000 out of 73535\n",
      "======================================\n",
      "On submission 24000 out of 73535\n",
      "======================================\n",
      "On submission 25000 out of 73535\n",
      "======================================\n",
      "On submission 26000 out of 73535\n",
      "======================================\n",
      "On submission 27000 out of 73535\n",
      "======================================\n",
      "On submission 28000 out of 73535\n",
      "======================================\n",
      "On submission 29000 out of 73535\n",
      "======================================\n",
      "On submission 30000 out of 73535\n",
      "======================================\n",
      "On submission 31000 out of 73535\n",
      "======================================\n",
      "On submission 32000 out of 73535\n",
      "======================================\n",
      "On submission 33000 out of 73535\n",
      "======================================\n",
      "On submission 34000 out of 73535\n",
      "======================================\n",
      "On submission 35000 out of 73535\n",
      "======================================\n",
      "On submission 36000 out of 73535\n",
      "======================================\n",
      "On submission 37000 out of 73535\n",
      "======================================\n",
      "On submission 38000 out of 73535\n",
      "======================================\n",
      "On submission 39000 out of 73535\n",
      "======================================\n",
      "On submission 40000 out of 73535\n",
      "======================================\n",
      "On submission 41000 out of 73535\n",
      "======================================\n",
      "On submission 42000 out of 73535\n",
      "======================================\n",
      "On submission 43000 out of 73535\n",
      "======================================\n",
      "On submission 44000 out of 73535\n",
      "======================================\n",
      "On submission 45000 out of 73535\n",
      "======================================\n",
      "On submission 46000 out of 73535\n",
      "======================================\n",
      "On submission 47000 out of 73535\n",
      "======================================\n",
      "On submission 48000 out of 73535\n",
      "======================================\n",
      "On submission 49000 out of 73535\n",
      "======================================\n",
      "On submission 50000 out of 73535\n",
      "======================================\n",
      "On submission 51000 out of 73535\n",
      "======================================\n",
      "On submission 52000 out of 73535\n",
      "======================================\n",
      "On submission 53000 out of 73535\n",
      "======================================\n",
      "On submission 54000 out of 73535\n",
      "======================================\n",
      "On submission 55000 out of 73535\n",
      "======================================\n",
      "On submission 56000 out of 73535\n",
      "======================================\n",
      "On submission 57000 out of 73535\n",
      "======================================\n",
      "On submission 58000 out of 73535\n",
      "======================================\n",
      "On submission 59000 out of 73535\n",
      "======================================\n",
      "On submission 60000 out of 73535\n",
      "======================================\n",
      "On submission 61000 out of 73535\n",
      "======================================\n",
      "On submission 62000 out of 73535\n",
      "======================================\n",
      "On submission 63000 out of 73535\n",
      "======================================\n",
      "On submission 64000 out of 73535\n",
      "======================================\n",
      "On submission 65000 out of 73535\n",
      "======================================\n",
      "On submission 66000 out of 73535\n",
      "======================================\n",
      "On submission 67000 out of 73535\n",
      "======================================\n",
      "On submission 68000 out of 73535\n",
      "======================================\n",
      "On submission 69000 out of 73535\n",
      "======================================\n",
      "On submission 70000 out of 73535\n",
      "======================================\n",
      "On submission 71000 out of 73535\n",
      "======================================\n",
      "On submission 72000 out of 73535\n",
      "======================================\n",
      "On submission 73000 out of 73535\n"
     ]
    }
   ],
   "source": [
    "# loop through comments list \n",
    "for i in range(0, len(comments_list)):\n",
    "    \n",
    "    # print counter \n",
    "    if i % 1000 == 0:\n",
    "        print('======================================')\n",
    "        print('On submission ' + str(i) + ' out of ' + str(len(comments_list)))\n",
    "    \n",
    "    # pull post id \n",
    "    post_id = comments_list[i][0]\n",
    "    \n",
    "    # loop through comments for post id \n",
    "    for key in comments_list[i][1]:\n",
    "        \n",
    "        # pull data on comment \n",
    "        author = comments_list[i][1][key]['author']\n",
    "        body = comments_list[i][1][key]['body']\n",
    "        parent_id = comments_list[i][1][key]['parent_id']\n",
    "        score = comments_list[i][1][key]['score']\n",
    "        replies = comments_list[i][1][key]['replies']\n",
    "        \n",
    "        # append to comments list2\n",
    "        comments_list2.append((post_id, key, author, body, parent_id, score, replies))\n",
    "        \n",
    " "
   ]
  },
  {
   "cell_type": "code",
   "execution_count": 84,
   "metadata": {},
   "outputs": [],
   "source": [
    "comments_df = pd.DataFrame(comments_list2, columns = ['submission_id', 'comment_id',\n",
    "                                                     'comment_author', 'comment_body', \n",
    "                                                     'parent_id', 'score', 'replies'])"
   ]
  },
  {
   "cell_type": "code",
   "execution_count": 87,
   "metadata": {},
   "outputs": [],
   "source": [
    "comments_df.to_pickle('/Volumes/Elements/Research/Reddit_Credibility/Data/dd_comments_df.pkl')"
   ]
  },
  {
   "cell_type": "markdown",
   "metadata": {},
   "source": [
    "### Forgot to pull submission text body, so create this variable and re-save dd df with text "
   ]
  },
  {
   "cell_type": "code",
   "execution_count": 3,
   "metadata": {},
   "outputs": [],
   "source": [
    "# read original dd_df\n",
    "dd_df = pd.read_pickle('/Volumes/Elements/Research/Reddit_Credibility/Data/dd_df.pkl')"
   ]
  },
  {
   "cell_type": "code",
   "execution_count": 36,
   "metadata": {},
   "outputs": [],
   "source": [
    "# initialize text_list \n",
    "text_list = []"
   ]
  },
  {
   "cell_type": "code",
   "execution_count": 37,
   "metadata": {},
   "outputs": [],
   "source": [
    "count = 0"
   ]
  },
  {
   "cell_type": "code",
   "execution_count": 38,
   "metadata": {},
   "outputs": [
    {
     "name": "stdout",
     "output_type": "stream",
     "text": [
      "On submission 1000 out of 73535\n",
      "On submission 2000 out of 73535\n",
      "On submission 3000 out of 73535\n",
      "On submission 4000 out of 73535\n",
      "On submission 5000 out of 73535\n",
      "On submission 6000 out of 73535\n",
      "On submission 7000 out of 73535\n",
      "On submission 8000 out of 73535\n",
      "On submission 9000 out of 73535\n",
      "On submission 10000 out of 73535\n",
      "On submission 11000 out of 73535\n",
      "On submission 12000 out of 73535\n",
      "On submission 13000 out of 73535\n",
      "On submission 14000 out of 73535\n",
      "On submission 15000 out of 73535\n",
      "On submission 16000 out of 73535\n",
      "On submission 17000 out of 73535\n",
      "On submission 18000 out of 73535\n",
      "On submission 19000 out of 73535\n",
      "On submission 20000 out of 73535\n",
      "On submission 21000 out of 73535\n",
      "On submission 22000 out of 73535\n",
      "On submission 23000 out of 73535\n",
      "On submission 24000 out of 73535\n",
      "On submission 25000 out of 73535\n",
      "On submission 26000 out of 73535\n",
      "On submission 27000 out of 73535\n",
      "On submission 28000 out of 73535\n",
      "On submission 29000 out of 73535\n",
      "On submission 30000 out of 73535\n",
      "On submission 31000 out of 73535\n",
      "On submission 32000 out of 73535\n",
      "On submission 33000 out of 73535\n",
      "On submission 34000 out of 73535\n",
      "On submission 35000 out of 73535\n",
      "On submission 36000 out of 73535\n",
      "On submission 37000 out of 73535\n",
      "On submission 38000 out of 73535\n",
      "On submission 39000 out of 73535\n",
      "On submission 40000 out of 73535\n",
      "On submission 41000 out of 73535\n",
      "On submission 42000 out of 73535\n",
      "On submission 43000 out of 73535\n",
      "On submission 44000 out of 73535\n",
      "On submission 45000 out of 73535\n",
      "On submission 46000 out of 73535\n",
      "On submission 47000 out of 73535\n",
      "On submission 48000 out of 73535\n",
      "On submission 49000 out of 73535\n",
      "On submission 50000 out of 73535\n",
      "On submission 51000 out of 73535\n",
      "On submission 52000 out of 73535\n",
      "On submission 53000 out of 73535\n",
      "On submission 54000 out of 73535\n",
      "On submission 55000 out of 73535\n",
      "On submission 56000 out of 73535\n",
      "On submission 57000 out of 73535\n",
      "On submission 58000 out of 73535\n",
      "On submission 59000 out of 73535\n",
      "On submission 60000 out of 73535\n",
      "On submission 61000 out of 73535\n",
      "On submission 62000 out of 73535\n",
      "On submission 63000 out of 73535\n",
      "On submission 64000 out of 73535\n",
      "On submission 65000 out of 73535\n",
      "On submission 66000 out of 73535\n",
      "On submission 67000 out of 73535\n",
      "On submission 68000 out of 73535\n",
      "On submission 69000 out of 73535\n",
      "On submission 70000 out of 73535\n",
      "On submission 71000 out of 73535\n",
      "On submission 72000 out of 73535\n",
      "On submission 73000 out of 73535\n"
     ]
    }
   ],
   "source": [
    "# loop through dd_df \n",
    "for index, row in dd_df.iterrows():\n",
    "    \n",
    "    count +=1 \n",
    "    if count % 1000 == 0:\n",
    "        _str = 'On submission ' + str(count) + ' out of ' + str(dd_df.shape[0])\n",
    "        print(_str)\n",
    "        \n",
    "    # sub id \n",
    "    sub_id = row['id']\n",
    "    \n",
    "    # pull submission \n",
    "    submission = reddit.submission(id = sub_id)\n",
    "    \n",
    "    # pull body \n",
    "    body = submission.selftext \n",
    "        \n",
    "    # check if removed \n",
    "    if submission.is_robot_indexable:\n",
    "        removed = 0\n",
    "    else:\n",
    "        removed = 1\n",
    "    \n",
    "    # append \n",
    "    text_list.append((sub_id, body, removed))"
   ]
  },
  {
   "cell_type": "code",
   "execution_count": 39,
   "metadata": {},
   "outputs": [],
   "source": [
    "text_df = pd.DataFrame(text_list, columns = ['submission_id', 'body', 'removed'])\n",
    "\n",
    "# merge with dd_df \n",
    "dd_df = dd_df.merge(text_df, left_on = 'id', right_on = 'submission_id')\n",
    "\n",
    "# re-save \n",
    "dd_df.to_pickle('/Volumes/Elements/Research/Reddit_Credibility/Data/dd_df.pkl')\n"
   ]
  },
  {
   "cell_type": "code",
   "execution_count": null,
   "metadata": {},
   "outputs": [],
   "source": [
    "# re-load to save sample\n",
    "dd_df = pd.read_pickle('/Volumes/Elements/Research/Reddit_Credibility/Data/dd_df.pkl')"
   ]
  },
  {
   "cell_type": "code",
   "execution_count": 10,
   "metadata": {},
   "outputs": [],
   "source": [
    "# save sample \n",
    "dd_sample = dd_df[dd_df['removed'] == 0]"
   ]
  },
  {
   "cell_type": "code",
   "execution_count": 11,
   "metadata": {},
   "outputs": [],
   "source": [
    "# remove missing author\n",
    "dd_sample = dd_sample[~dd_sample['author'].isna()]"
   ]
  },
  {
   "cell_type": "code",
   "execution_count": 13,
   "metadata": {},
   "outputs": [],
   "source": [
    "# remove Kremfloete\n",
    "dd_sample = dd_sample[dd_sample['author'].astype(str) != 'Kremfloete']"
   ]
  },
  {
   "cell_type": "code",
   "execution_count": 14,
   "metadata": {},
   "outputs": [],
   "source": [
    "dd_sample.to_pickle('/Volumes/Elements/Research/Reddit_Credibility/Data/dd_df_sample.pkl')"
   ]
  },
  {
   "cell_type": "markdown",
   "metadata": {},
   "source": [
    "### Save dd_df as csv to use in R "
   ]
  },
  {
   "cell_type": "code",
   "execution_count": 15,
   "metadata": {},
   "outputs": [],
   "source": [
    "dd_df = pd.read_pickle('/Volumes/Elements/Research/Reddit_Credibility/Data/dd_df.pkl')"
   ]
  },
  {
   "cell_type": "code",
   "execution_count": 16,
   "metadata": {},
   "outputs": [],
   "source": [
    "dd_df.to_csv('/Volumes/Elements/Research/Reddit_Credibility/Data/full_dd_df.csv')"
   ]
  }
 ],
 "metadata": {
  "kernelspec": {
   "display_name": "Python 3",
   "language": "python",
   "name": "python3"
  },
  "language_info": {
   "codemirror_mode": {
    "name": "ipython",
    "version": 3
   },
   "file_extension": ".py",
   "mimetype": "text/x-python",
   "name": "python",
   "nbconvert_exporter": "python",
   "pygments_lexer": "ipython3",
   "version": "3.8.5"
  }
 },
 "nbformat": 4,
 "nbformat_minor": 4
}
