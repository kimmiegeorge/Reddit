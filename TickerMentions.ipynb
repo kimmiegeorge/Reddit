{
 "cells": [
  {
   "cell_type": "markdown",
   "metadata": {},
   "source": [
    "## Pull Ticker Mentions From Post Titles and Text"
   ]
  },
  {
   "cell_type": "code",
   "execution_count": 13,
   "metadata": {},
   "outputs": [],
   "source": [
    "# load packages \n",
    "import pandas as pd \n",
    "import re \n",
    "import datetime \n",
    "import reticker"
   ]
  },
  {
   "cell_type": "markdown",
   "metadata": {},
   "source": [
    "### Load Data"
   ]
  },
  {
   "cell_type": "code",
   "execution_count": 14,
   "metadata": {},
   "outputs": [],
   "source": [
    "dd_df = pd.read_pickle('/Volumes/Elements/Research/Reddit_Credibility/Data/dd_df_sample.pkl')"
   ]
  },
  {
   "cell_type": "markdown",
   "metadata": {},
   "source": [
    "### Run regex search for tickers "
   ]
  },
  {
   "cell_type": "code",
   "execution_count": 15,
   "metadata": {},
   "outputs": [],
   "source": [
    "# use predefine reg ex operation from reticker that search for ticker-like text \n",
    "extractor = reticker.TickerExtractor()"
   ]
  },
  {
   "cell_type": "code",
   "execution_count": 16,
   "metadata": {},
   "outputs": [],
   "source": [
    "# ticker_search function \n",
    "def ticker_search(text):\n",
    "    ticker_list = extractor.extract(text)\n",
    "    return ticker_list"
   ]
  },
  {
   "cell_type": "code",
   "execution_count": 17,
   "metadata": {},
   "outputs": [],
   "source": [
    "# run extractor search on post titles \n",
    "dd_df['ticker_mentions_title'] = dd_df.apply(lambda row : ticker_search(row['title']), axis = 1)"
   ]
  },
  {
   "cell_type": "code",
   "execution_count": 18,
   "metadata": {},
   "outputs": [],
   "source": [
    "# run extractor search on post body\n",
    "dd_df['ticker_mentions_body'] = dd_df.apply(lambda row : ticker_search(row['body']), axis = 1)"
   ]
  },
  {
   "cell_type": "markdown",
   "metadata": {},
   "source": [
    "### Save csv file for ticker mentions\n",
    "- one for full sample\n",
    "- one for just 2021 "
   ]
  },
  {
   "cell_type": "code",
   "execution_count": 20,
   "metadata": {},
   "outputs": [],
   "source": [
    "dd_df = dd_df[['url', 'timestamp','title', 'body', 'ticker_mentions_title', 'ticker_mentions_body']]"
   ]
  },
  {
   "cell_type": "code",
   "execution_count": 21,
   "metadata": {},
   "outputs": [],
   "source": [
    "dd_df_2021 = dd_df[dd_df['timestamp'] >= pd.Timestamp('2021-01-01')]"
   ]
  },
  {
   "cell_type": "code",
   "execution_count": 23,
   "metadata": {},
   "outputs": [],
   "source": [
    "dd_df_2021.to_csv('/Volumes/Elements/Research/Reddit_Credibility/Data/Ticker_Collection/ticker_collection_2021.csv')"
   ]
  },
  {
   "cell_type": "code",
   "execution_count": 24,
   "metadata": {},
   "outputs": [],
   "source": [
    "dd_df.to_csv('/Volumes/Elements/Research/Reddit_Credibility/Data/Ticker_Collection/ticker_collection_fullsample.csv')"
   ]
  }
 ],
 "metadata": {
  "kernelspec": {
   "display_name": "Python 3",
   "language": "python",
   "name": "python3"
  },
  "language_info": {
   "codemirror_mode": {
    "name": "ipython",
    "version": 3
   },
   "file_extension": ".py",
   "mimetype": "text/x-python",
   "name": "python",
   "nbconvert_exporter": "python",
   "pygments_lexer": "ipython3",
   "version": "3.8.5"
  }
 },
 "nbformat": 4,
 "nbformat_minor": 4
}
