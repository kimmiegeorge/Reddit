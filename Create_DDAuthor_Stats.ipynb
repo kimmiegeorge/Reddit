{
 "cells": [
  {
   "cell_type": "markdown",
   "metadata": {},
   "source": [
    "## Create DD Author Stats\n",
    "Using previous posts and comments made by DD authors, pull stats posted by VisualMod bot \n",
    "- earliest post or comment date \n",
    "- links to previous DD posts \n",
    "- number of previous posts and comments \n",
    "\n",
    "Process:\n",
    "1. Loop through DD Posts \n",
    "2. Pull author posts and comments before DD post date \n",
    "3. Collect earliest post/comment date, num posts/comments, and IDs of past DD posts "
   ]
  },
  {
   "cell_type": "markdown",
   "metadata": {},
   "source": [
    "### Required packages "
   ]
  },
  {
   "cell_type": "code",
   "execution_count": 102,
   "metadata": {},
   "outputs": [],
   "source": [
    "# set up \n",
    "import pandas as pd \n",
    "import datetime  \n",
    "from datetime import timedelta\n",
    "import numpy as np \n",
    "import re\n",
    "import bisect"
   ]
  },
  {
   "cell_type": "markdown",
   "metadata": {},
   "source": [
    "### Load Data"
   ]
  },
  {
   "cell_type": "code",
   "execution_count": 103,
   "metadata": {},
   "outputs": [],
   "source": [
    "# dd posts \n",
    "dd_posts = pd.read_pickle('/Volumes/Elements/Research/Reddit_Credibility/Data/dd_df_sample.pkl')\n",
    "\n",
    "# dd author posts \n",
    "ddauthor_posts = pd.read_pickle('/Volumes/Elements/Research/Reddit_Credibility/Data/posts_by_dd_authors.pkl')\n",
    "\n",
    "# dd author comments \n",
    "ddauthor_comments = pd.read_pickle('/Volumes/Elements/Research/Reddit_Credibility/Data/comments_by_dd_authors.pkl')\n"
   ]
  },
  {
   "cell_type": "code",
   "execution_count": 104,
   "metadata": {},
   "outputs": [],
   "source": [
    "# create timestamp variable for ddauthor data frames \n",
    "# Fix dates - Reddit dates are in UNIX timestamps \n",
    "def get_date(created):\n",
    "    return datetime.datetime.fromtimestamp(created)\n",
    "\n",
    "# for posts\n",
    "_timestamp = ddauthor_posts['created'].apply(get_date)\n",
    "ddauthor_posts = ddauthor_posts.assign(timestamp = _timestamp)\n",
    "\n",
    "# for comments \n",
    "_timestamp = ddauthor_comments['created'].apply(get_date)\n",
    "ddauthor_comments = ddauthor_comments.assign(timestamp = _timestamp)"
   ]
  },
  {
   "cell_type": "markdown",
   "metadata": {},
   "source": [
    "### Create Author ID variable"
   ]
  },
  {
   "cell_type": "code",
   "execution_count": 105,
   "metadata": {},
   "outputs": [],
   "source": [
    "# get list of authors\n",
    "authors = dd_posts.author.unique().tolist()\n",
    "\n",
    "# convert to df\n",
    "authorsdf = pd.DataFrame(authors, columns = ['author'])\n",
    "\n",
    "# set author ID to index\n",
    "authorsdf['authorID'] = authorsdf.index"
   ]
  },
  {
   "cell_type": "markdown",
   "metadata": {},
   "source": [
    "### Merge AuthorID and remove missing authors "
   ]
  },
  {
   "cell_type": "code",
   "execution_count": 106,
   "metadata": {},
   "outputs": [],
   "source": [
    "# merge\n",
    "dd_posts = dd_posts.merge(authorsdf, on = 'author')\n",
    "ddauthor_posts = ddauthor_posts.merge(authorsdf, on = 'author')\n",
    "ddauthor_comments = ddauthor_comments.merge(authorsdf, on = 'author')"
   ]
  },
  {
   "cell_type": "markdown",
   "metadata": {},
   "source": [
    "### Loop through posts, collect stats "
   ]
  },
  {
   "cell_type": "code",
   "execution_count": 107,
   "metadata": {},
   "outputs": [],
   "source": [
    "# initialize author stats list \n",
    "author_stats_list = []"
   ]
  },
  {
   "cell_type": "code",
   "execution_count": 108,
   "metadata": {},
   "outputs": [],
   "source": [
    "# set index\n",
    "ddauthor_comments.set_index('authorID', inplace = True)\n",
    "ddauthor_posts.set_index('authorID', inplace = True)\n",
    "\n",
    "dd_posts.set_index('authorID', inplace = True)"
   ]
  },
  {
   "cell_type": "code",
   "execution_count": 109,
   "metadata": {},
   "outputs": [
    {
     "name": "stdout",
     "output_type": "stream",
     "text": [
      "**************************\n",
      "On dd post 1000 out of 9197\n",
      "**************************\n",
      "On dd post 2000 out of 9197\n",
      "**************************\n",
      "On dd post 3000 out of 9197\n",
      "**************************\n",
      "On dd post 4000 out of 9197\n",
      "**************************\n",
      "On dd post 5000 out of 9197\n",
      "**************************\n",
      "On dd post 6000 out of 9197\n",
      "**************************\n",
      "On dd post 7000 out of 9197\n",
      "**************************\n",
      "On dd post 8000 out of 9197\n",
      "**************************\n",
      "On dd post 9000 out of 9197\n"
     ]
    }
   ],
   "source": [
    "# loop through dd_posts \n",
    "count = 0\n",
    "\n",
    "for index, row in dd_posts.iterrows():\n",
    "    \n",
    "    count += 1\n",
    "    \n",
    "    ### counter ### \n",
    "    if count % 1000 == 0:\n",
    "        _str = 'On dd post ' + str(count) + ' out of ' + str(dd_posts.shape[0])\n",
    "        print(\"**************************\")\n",
    "        print(_str)\n",
    "    \n",
    "    # pull author and timestamp and dd id \n",
    "    _author = index\n",
    "    _timestamp = row['timestamp']\n",
    "    _id = row['id']\n",
    "    \n",
    "       \n",
    "    ### pull all comments by author before timestamp ###\n",
    "    \n",
    "    # check if author is in comment df\n",
    "    if _author in ddauthor_comments.index:\n",
    "        \n",
    "        # pull comments\n",
    "        comms = ddauthor_comments.loc[_author, ['timestamp']]  \n",
    "        \n",
    "        # check if only one comment \n",
    "        if len(comms) == 1:\n",
    "            \n",
    "            # check if before date \n",
    "            if comms.timestamp >= _timestamp:\n",
    "                num_comms = 0\n",
    "                min_comm = np.nan\n",
    "            else:\n",
    "                num_comms = 1\n",
    "                min_comm = comms.timestamp\n",
    "        \n",
    "        # else, if more than one comment \n",
    "        else:\n",
    "        \n",
    "            # check if no comments before timestamp \n",
    "            if comms.timestamp.min() >= _timestamp:\n",
    "                num_comms = 0 \n",
    "                min_comm = np.nan\n",
    "\n",
    "            # if comments before timestamp\n",
    "            \n",
    "            else: \n",
    "                # pull all\n",
    "                comms = comms.loc[lambda row: (row['timestamp'] < _timestamp)]\n",
    "\n",
    "                # stats \n",
    "                num_comms = comms.shape[0]\n",
    "                min_comm = comms.timestamp.min()\n",
    "        \n",
    "    # if author not in comment df    \n",
    "    else:\n",
    "        num_comms = 0 \n",
    "        min_comm = np.nan\n",
    "        \n",
    "    ### pull all posts by author before timestamp ###  \n",
    "    \n",
    "    posts = ddauthor_posts.loc[_author, ['timestamp']]\n",
    "    \n",
    "    # check if dd is the only post \n",
    "    if len(posts) == 1:\n",
    "        num_posts = 0\n",
    "        min_post = _timestamp\n",
    "    \n",
    "    # if dd is not the only posts, pull all posts less than timestamp \n",
    "    else:\n",
    "        \n",
    "        # filter\n",
    "        posts = posts.loc[lambda row:(row['timestamp'] <= _timestamp)]\n",
    "    \n",
    "        # if only post, set stats\n",
    "        if len(posts) == 1:\n",
    "            num_posts = 0 \n",
    "            min_post = _timestamp\n",
    "    \n",
    "        # if not only post, compute stats\n",
    "        else:\n",
    "            posts = posts[posts['timestamp'] != _timestamp]\n",
    "            # stats \n",
    "            num_posts = posts.shape[0]\n",
    "            min_post = posts.timestamp.min()\n",
    "        \n",
    "    ### pull all dd by author before timestamp ### \n",
    "    \n",
    "    dds = dd_posts[dd_posts.index == _author]\n",
    "    dds = dds.loc[lambda row: (row['timestamp'] <= _timestamp)]\n",
    "    \n",
    "    # if only one dd, empy list \n",
    "    if dds.shape[0] == 1:\n",
    "        dd_ids = []\n",
    "        num_dd = 0\n",
    "    \n",
    "    else:\n",
    "        # filter again \n",
    "        dds = dds[dds['timestamp'] != _timestamp]\n",
    "        dd_ids = dds.id.unique().tolist()\n",
    "        num_dd = len(dd_ids)\n",
    "       \n",
    "    ### append ###\n",
    "    author_stats_list.append((_id, _author, num_comms, num_posts, min_comm, min_post, dd_ids, num_dd))"
   ]
  },
  {
   "cell_type": "code",
   "execution_count": 110,
   "metadata": {},
   "outputs": [],
   "source": [
    "ddauthor_stats_df = pd.DataFrame(author_stats_list, \n",
    "                                columns = ['dd_id', 'authorID', 'num_previous_comments', \n",
    "                                          'num_previous_posts', 'min_comment_date', 'min_post_date', \n",
    "                                          'prev_dd_ids', 'num_prev_dd'])"
   ]
  },
  {
   "cell_type": "code",
   "execution_count": 111,
   "metadata": {},
   "outputs": [],
   "source": [
    "# merge with dd_posts \n",
    "dd_posts = dd_posts.merge(ddauthor_stats_df, left_on = ['id', 'authorID'], right_on = ['dd_id', 'authorID'])"
   ]
  },
  {
   "cell_type": "code",
   "execution_count": 112,
   "metadata": {},
   "outputs": [],
   "source": [
    "# save dd_posts as dd_posts_stats\n",
    "dd_posts.to_csv('/Volumes/Elements/Research/Reddit_Credibility/Data/dd_posts_stats.csv')"
   ]
  },
  {
   "cell_type": "code",
   "execution_count": 113,
   "metadata": {},
   "outputs": [],
   "source": [
    "# save author/author ID linking table\n",
    "authorsdf.to_csv('/Volumes/Elements/Research/Reddit_Credibility/Data/authorID_link.csv')"
   ]
  },
  {
   "cell_type": "markdown",
   "metadata": {},
   "source": [
    "#-----------"
   ]
  }
 ],
 "metadata": {
  "kernelspec": {
   "display_name": "Python 3",
   "language": "python",
   "name": "python3"
  },
  "language_info": {
   "codemirror_mode": {
    "name": "ipython",
    "version": 3
   },
   "file_extension": ".py",
   "mimetype": "text/x-python",
   "name": "python",
   "nbconvert_exporter": "python",
   "pygments_lexer": "ipython3",
   "version": "3.8.5"
  }
 },
 "nbformat": 4,
 "nbformat_minor": 4
}
